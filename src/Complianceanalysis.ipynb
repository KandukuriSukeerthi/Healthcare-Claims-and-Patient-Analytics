{
 "cells": [
  {
   "cell_type": "code",
   "execution_count": 1,
   "id": "c45877c3-3ea4-4c33-94eb-2be721bc9f77",
   "metadata": {},
   "outputs": [],
   "source": [
    "import pandas as pd\n",
    "import numpy as np"
   ]
  },
  {
   "cell_type": "code",
   "execution_count": 2,
   "id": "910151cd-0464-4bbb-b926-bd415d1bc251",
   "metadata": {},
   "outputs": [],
   "source": [
    "patients_df = pd.read_csv(\"C:/Users/kandu/Documents/Data Analysis Projects/Project_3/data/processed/dbo.Patients.csv\")\n",
    "claims_df = pd.read_csv(\"C:/Users/kandu/Documents/Data Analysis Projects/Project_3/data/processed/dbo.Claims.csv\")\n",
    "medications_df = pd.read_csv(\"C:/Users/kandu/Documents/Data Analysis Projects/Project_3/data/processed/dbo.Medications.csv\")"
   ]
  },
  {
   "cell_type": "code",
   "execution_count": 3,
   "id": "75049026-2f06-4b14-b094-681fccb97398",
   "metadata": {},
   "outputs": [
    {
     "name": "stdout",
     "output_type": "stream",
     "text": [
      "<class 'pandas.core.frame.DataFrame'>\n",
      "RangeIndex: 10000 entries, 0 to 9999\n",
      "Data columns (total 9 columns):\n",
      " #   Column           Non-Null Count  Dtype  \n",
      "---  ------           --------------  -----  \n",
      " 0   PatientID        10000 non-null  object \n",
      " 1   Name             10000 non-null  object \n",
      " 2   Age              9500 non-null   float64\n",
      " 3   Gender           10000 non-null  object \n",
      " 4   Region           10000 non-null  object \n",
      " 5   ICDCode          10000 non-null  object \n",
      " 6   AdmissionDate    10000 non-null  object \n",
      " 7   DischargeDate    10000 non-null  object \n",
      " 8   ReadmissionFlag  10000 non-null  bool   \n",
      "dtypes: bool(1), float64(1), object(7)\n",
      "memory usage: 634.9+ KB\n"
     ]
    }
   ],
   "source": [
    "patients_df.info()"
   ]
  },
  {
   "cell_type": "markdown",
   "id": "b2e6ec71-ed7e-4ec7-b091-890c4c9068da",
   "metadata": {},
   "source": [
    "**HIPAA Compliance**"
   ]
  },
  {
   "cell_type": "code",
   "execution_count": 4,
   "id": "65b9d5a6-e224-40a5-9c5b-da72f39216de",
   "metadata": {},
   "outputs": [],
   "source": [
    "#Data Masking\n",
    "\n",
    "import hashlib\n",
    "\n",
    "patients_df['Name'] = patients_df['Name'].apply(lambda x: x[0] + '******' if x else None)\n",
    "patients_df['PatientID'] = patients_df['PatientID'].apply(lambda x: hashlib.sha256(str(x).encode()).hexdigest())\n",
    "claims_df['ClaimID'] = claims_df['ClaimID'].apply(lambda x: hashlib.sha256(str(x).encode()).hexdigest())\n",
    "claims_df['ClaimAmount'] = claims_df['ClaimAmount'].apply(lambda x : '****' if x > 10000 else x)\n",
    "claims_df['PatientID'] = claims_df['PatientID'].apply(lambda x: hashlib.sha256(str(x).encode()).hexdigest())\n",
    "medications_df['MedicationName'] = medications_df['MedicationName'].apply(lambda x: 'Generic' if x else None)\n",
    "medications_df['PatientID'] = medications_df['PatientID'].apply(lambda x: hashlib.sha256(str(x).encode()).hexdigest())\n",
    "\n",
    "icd_mapping = {\n",
    "    \"E11.9\": \"Diabetes\",\n",
    "    \"I10\": \"Hypertension\",\n",
    "    \"J45.909\": \"Asthma\",\n",
    "    \"M54.5\": \"Back Pain\",\n",
    "    \"N18.9\": \"Kidney Disease\",\n",
    "    \"K21.9\": \"Acid Reflux\",\n",
    "    \"F32.9\": \"Depression\",\n",
    "    \"R51\": \"Headache\"\n",
    "}\n",
    "\n",
    "patients_df['ICDCode'] = patients_df['ICDCode'].map(icd_mapping).fillna(\"Other\")"
   ]
  },
  {
   "cell_type": "code",
   "execution_count": 5,
   "id": "07b4128e-4621-4f74-b5e6-82045314303a",
   "metadata": {},
   "outputs": [
    {
     "data": {
      "text/html": [
       "<div>\n",
       "<style scoped>\n",
       "    .dataframe tbody tr th:only-of-type {\n",
       "        vertical-align: middle;\n",
       "    }\n",
       "\n",
       "    .dataframe tbody tr th {\n",
       "        vertical-align: top;\n",
       "    }\n",
       "\n",
       "    .dataframe thead th {\n",
       "        text-align: right;\n",
       "    }\n",
       "</style>\n",
       "<table border=\"1\" class=\"dataframe\">\n",
       "  <thead>\n",
       "    <tr style=\"text-align: right;\">\n",
       "      <th></th>\n",
       "      <th>PatientID</th>\n",
       "      <th>Name</th>\n",
       "      <th>Age</th>\n",
       "      <th>Gender</th>\n",
       "      <th>Region</th>\n",
       "      <th>ICDCode</th>\n",
       "      <th>AdmissionDate</th>\n",
       "      <th>DischargeDate</th>\n",
       "      <th>ReadmissionFlag</th>\n",
       "    </tr>\n",
       "  </thead>\n",
       "  <tbody>\n",
       "    <tr>\n",
       "      <th>0</th>\n",
       "      <td>fbeae7c18667b6987518f3ae61ed8b19038e5961e8e736...</td>\n",
       "      <td>A******</td>\n",
       "      <td>65.0</td>\n",
       "      <td>Female</td>\n",
       "      <td>East</td>\n",
       "      <td>Headache</td>\n",
       "      <td>9/21/2023</td>\n",
       "      <td>11/28/2024</td>\n",
       "      <td>False</td>\n",
       "    </tr>\n",
       "    <tr>\n",
       "      <th>1</th>\n",
       "      <td>5c13dc65b52d224b474c5848d4bbd5effa7405b0b8ceb5...</td>\n",
       "      <td>S******</td>\n",
       "      <td>54.0</td>\n",
       "      <td>Female</td>\n",
       "      <td>North</td>\n",
       "      <td>Back Pain</td>\n",
       "      <td>1/13/2022</td>\n",
       "      <td>2/19/2024</td>\n",
       "      <td>True</td>\n",
       "    </tr>\n",
       "    <tr>\n",
       "      <th>2</th>\n",
       "      <td>b39af233e0cda43f73d41173fefd31c13d7f383a15ada2...</td>\n",
       "      <td>L******</td>\n",
       "      <td>55.0</td>\n",
       "      <td>Male</td>\n",
       "      <td>East</td>\n",
       "      <td>Headache</td>\n",
       "      <td>10/23/2023</td>\n",
       "      <td>12/26/2023</td>\n",
       "      <td>False</td>\n",
       "    </tr>\n",
       "    <tr>\n",
       "      <th>3</th>\n",
       "      <td>031a60e86398d41d18e79ffcedc168a3e137eec8e808ff...</td>\n",
       "      <td>J******</td>\n",
       "      <td>45.0</td>\n",
       "      <td>Female</td>\n",
       "      <td>North</td>\n",
       "      <td>Hypertension</td>\n",
       "      <td>1/18/2021</td>\n",
       "      <td>8/6/2022</td>\n",
       "      <td>True</td>\n",
       "    </tr>\n",
       "    <tr>\n",
       "      <th>4</th>\n",
       "      <td>1d22c8d8c2483af7d3f60201955782e5c4808763e6b3bb...</td>\n",
       "      <td>J******</td>\n",
       "      <td>29.0</td>\n",
       "      <td>Female</td>\n",
       "      <td>South</td>\n",
       "      <td>Depression</td>\n",
       "      <td>7/26/2021</td>\n",
       "      <td>12/18/2022</td>\n",
       "      <td>False</td>\n",
       "    </tr>\n",
       "  </tbody>\n",
       "</table>\n",
       "</div>"
      ],
      "text/plain": [
       "                                           PatientID     Name   Age  Gender  \\\n",
       "0  fbeae7c18667b6987518f3ae61ed8b19038e5961e8e736...  A******  65.0  Female   \n",
       "1  5c13dc65b52d224b474c5848d4bbd5effa7405b0b8ceb5...  S******  54.0  Female   \n",
       "2  b39af233e0cda43f73d41173fefd31c13d7f383a15ada2...  L******  55.0    Male   \n",
       "3  031a60e86398d41d18e79ffcedc168a3e137eec8e808ff...  J******  45.0  Female   \n",
       "4  1d22c8d8c2483af7d3f60201955782e5c4808763e6b3bb...  J******  29.0  Female   \n",
       "\n",
       "  Region       ICDCode AdmissionDate DischargeDate  ReadmissionFlag  \n",
       "0   East      Headache     9/21/2023    11/28/2024            False  \n",
       "1  North     Back Pain     1/13/2022     2/19/2024             True  \n",
       "2   East      Headache    10/23/2023    12/26/2023            False  \n",
       "3  North  Hypertension     1/18/2021      8/6/2022             True  \n",
       "4  South    Depression     7/26/2021    12/18/2022            False  "
      ]
     },
     "execution_count": 5,
     "metadata": {},
     "output_type": "execute_result"
    }
   ],
   "source": [
    "patients_df.head()"
   ]
  },
  {
   "cell_type": "code",
   "execution_count": 6,
   "id": "c4ee9181-4615-4eac-bbbd-1603699b917d",
   "metadata": {},
   "outputs": [
    {
     "data": {
      "text/html": [
       "<div>\n",
       "<style scoped>\n",
       "    .dataframe tbody tr th:only-of-type {\n",
       "        vertical-align: middle;\n",
       "    }\n",
       "\n",
       "    .dataframe tbody tr th {\n",
       "        vertical-align: top;\n",
       "    }\n",
       "\n",
       "    .dataframe thead th {\n",
       "        text-align: right;\n",
       "    }\n",
       "</style>\n",
       "<table border=\"1\" class=\"dataframe\">\n",
       "  <thead>\n",
       "    <tr style=\"text-align: right;\">\n",
       "      <th></th>\n",
       "      <th>ClaimID</th>\n",
       "      <th>PatientID</th>\n",
       "      <th>ServiceDate</th>\n",
       "      <th>ClaimAmount</th>\n",
       "      <th>ClaimStatus</th>\n",
       "    </tr>\n",
       "  </thead>\n",
       "  <tbody>\n",
       "    <tr>\n",
       "      <th>0</th>\n",
       "      <td>ab861dc170dc2e43224e45278d3d31a675b9ebc34c9b0f...</td>\n",
       "      <td>0a3b032bc8566b034a046cc0195066fd921bffac0dd3d2...</td>\n",
       "      <td>2/20/2021</td>\n",
       "      <td>1232.77</td>\n",
       "      <td>Approved</td>\n",
       "    </tr>\n",
       "    <tr>\n",
       "      <th>1</th>\n",
       "      <td>908d72900e2475921b580e971e603ef224f1995cdf47e3...</td>\n",
       "      <td>20b67d203ebabec0b96a24003d5533000546b974e12640...</td>\n",
       "      <td>4/4/2023</td>\n",
       "      <td>4602.83</td>\n",
       "      <td>Approved</td>\n",
       "    </tr>\n",
       "    <tr>\n",
       "      <th>2</th>\n",
       "      <td>42305a438d5d25400361f163794e8a5803a28e8eb8d673...</td>\n",
       "      <td>a3ed25091df46b9dcc0f5d5daad82b3a1eb0a3e5594d75...</td>\n",
       "      <td>5/22/2021</td>\n",
       "      <td>4799.48</td>\n",
       "      <td>Unknown</td>\n",
       "    </tr>\n",
       "    <tr>\n",
       "      <th>3</th>\n",
       "      <td>8014676a73eed7da89b2e98cf1f87f2befe096a24733a9...</td>\n",
       "      <td>1fbe45a982219dda7b50eae9bde24b73eb43441994732f...</td>\n",
       "      <td>12/6/2022</td>\n",
       "      <td>8176.78</td>\n",
       "      <td>Approved</td>\n",
       "    </tr>\n",
       "    <tr>\n",
       "      <th>4</th>\n",
       "      <td>33f81180ce947d4e25baa53306d5411dad5dd02b56b974...</td>\n",
       "      <td>7d6605e07d80c549826f8130fd84b47b9f7e3953282230...</td>\n",
       "      <td>1/6/2022</td>\n",
       "      <td>612.73</td>\n",
       "      <td>Approved</td>\n",
       "    </tr>\n",
       "  </tbody>\n",
       "</table>\n",
       "</div>"
      ],
      "text/plain": [
       "                                             ClaimID  \\\n",
       "0  ab861dc170dc2e43224e45278d3d31a675b9ebc34c9b0f...   \n",
       "1  908d72900e2475921b580e971e603ef224f1995cdf47e3...   \n",
       "2  42305a438d5d25400361f163794e8a5803a28e8eb8d673...   \n",
       "3  8014676a73eed7da89b2e98cf1f87f2befe096a24733a9...   \n",
       "4  33f81180ce947d4e25baa53306d5411dad5dd02b56b974...   \n",
       "\n",
       "                                           PatientID ServiceDate ClaimAmount  \\\n",
       "0  0a3b032bc8566b034a046cc0195066fd921bffac0dd3d2...   2/20/2021     1232.77   \n",
       "1  20b67d203ebabec0b96a24003d5533000546b974e12640...    4/4/2023     4602.83   \n",
       "2  a3ed25091df46b9dcc0f5d5daad82b3a1eb0a3e5594d75...   5/22/2021     4799.48   \n",
       "3  1fbe45a982219dda7b50eae9bde24b73eb43441994732f...   12/6/2022     8176.78   \n",
       "4  7d6605e07d80c549826f8130fd84b47b9f7e3953282230...    1/6/2022      612.73   \n",
       "\n",
       "  ClaimStatus  \n",
       "0    Approved  \n",
       "1    Approved  \n",
       "2     Unknown  \n",
       "3    Approved  \n",
       "4    Approved  "
      ]
     },
     "execution_count": 6,
     "metadata": {},
     "output_type": "execute_result"
    }
   ],
   "source": [
    "claims_df.head()"
   ]
  },
  {
   "cell_type": "code",
   "execution_count": 7,
   "id": "704d38fb-0eb0-4835-9400-ba085a411fa2",
   "metadata": {},
   "outputs": [
    {
     "data": {
      "text/plain": [
       "MedicationID        9999\n",
       "PatientID           9999\n",
       "PrescriptionDate    3618\n",
       "MedicationName      9999\n",
       "Dosage              9999\n",
       "AdherenceFlag       9999\n",
       "dtype: int64"
      ]
     },
     "execution_count": 7,
     "metadata": {},
     "output_type": "execute_result"
    }
   ],
   "source": [
    "medications_df.count()"
   ]
  },
  {
   "cell_type": "code",
   "execution_count": 8,
   "id": "f0e08c4b-0e75-4691-bdc3-d575423729b7",
   "metadata": {},
   "outputs": [],
   "source": [
    "#Data Integrity\n",
    "\n",
    "valid_patientids = set(patients_df['PatientID'])\n",
    "claims_df = claims_df[claims_df['PatientID'].isin(valid_patientids)]\n",
    "medications_df = medications_df[medications_df['PatientID'].isin(valid_patientids)]"
   ]
  },
  {
   "cell_type": "code",
   "execution_count": 9,
   "id": "9cced0d9-6241-4abe-b7f7-18bb89307999",
   "metadata": {},
   "outputs": [],
   "source": [
    "# Perform a join between medications_df and patients_df on PatientID\n",
    "merged_df = medications_df.merge(\n",
    "    patients_df[['PatientID', 'AdmissionDate', 'DischargeDate']],\n",
    "    on='PatientID',\n",
    "    how='inner'\n",
    ")\n",
    "\n",
    "# Filter rows where PrescriptionDate is between AdmissionDate and DischargeDate\n",
    "filtered_df = merged_df[\n",
    "    (merged_df['PrescriptionDate'] >= merged_df['AdmissionDate']) &\n",
    "    (merged_df['PrescriptionDate'] <= merged_df['DischargeDate'])\n",
    "]\n",
    "\n",
    "# If needed, drop the extra columns to keep only the original medications_df fields\n",
    "#filtered_df = filtered_df[medications_df.columns]\n"
   ]
  },
  {
   "cell_type": "code",
   "execution_count": 10,
   "id": "a893560d-ac6a-4826-b3e4-999571076632",
   "metadata": {},
   "outputs": [
    {
     "data": {
      "text/plain": [
       "MedicationID        812\n",
       "PatientID           812\n",
       "PrescriptionDate    812\n",
       "MedicationName      812\n",
       "Dosage              812\n",
       "AdherenceFlag       812\n",
       "AdmissionDate       812\n",
       "DischargeDate       812\n",
       "dtype: int64"
      ]
     },
     "execution_count": 10,
     "metadata": {},
     "output_type": "execute_result"
    }
   ],
   "source": [
    "filtered_df.count()"
   ]
  },
  {
   "cell_type": "code",
   "execution_count": null,
   "id": "c89efbcf-02a3-4fcb-952e-f841afc41c67",
   "metadata": {},
   "outputs": [],
   "source": []
  }
 ],
 "metadata": {
  "kernelspec": {
   "display_name": "Python 3 (ipykernel)",
   "language": "python",
   "name": "python3"
  },
  "language_info": {
   "codemirror_mode": {
    "name": "ipython",
    "version": 3
   },
   "file_extension": ".py",
   "mimetype": "text/x-python",
   "name": "python",
   "nbconvert_exporter": "python",
   "pygments_lexer": "ipython3",
   "version": "3.11.9"
  }
 },
 "nbformat": 4,
 "nbformat_minor": 5
}
